{
 "cells": [
  {
   "cell_type": "code",
   "execution_count": 4,
   "id": "58fb53bf-a7b7-46be-9e78-891d7f31de08",
   "metadata": {},
   "outputs": [],
   "source": [
    "#Prog-DA "
   ]
  },
  {
   "cell_type": "code",
   "execution_count": 5,
   "id": "dfb7592e-038f-45dd-9e97-38bb17862ced",
   "metadata": {},
   "outputs": [],
   "source": [
    "##Research"
   ]
  },
  {
   "cell_type": "code",
   "execution_count": 6,
   "id": "17c2cd42-1053-4d4b-875b-61d28cff7987",
   "metadata": {},
   "outputs": [
    {
     "data": {
      "text/plain": [
       "'For my project I decided to investgiate the relationship around different phenomeans of NBA basketball & which method of plan is best'"
      ]
     },
     "execution_count": 6,
     "metadata": {},
     "output_type": "execute_result"
    }
   ],
   "source": [
    "\"For my project I decided to investgiate the relationship around different phenomeans of NBA basketball & which method of plan is best\""
   ]
  },
  {
   "cell_type": "code",
   "execution_count": null,
   "id": "9908c294-beed-47c2-99e1-573f06ab09b1",
   "metadata": {},
   "outputs": [],
   "source": []
  }
 ],
 "metadata": {
  "kernelspec": {
   "display_name": "Python 3 (ipykernel)",
   "language": "python",
   "name": "python3"
  },
  "language_info": {
   "codemirror_mode": {
    "name": "ipython",
    "version": 3
   },
   "file_extension": ".py",
   "mimetype": "text/x-python",
   "name": "python",
   "nbconvert_exporter": "python",
   "pygments_lexer": "ipython3",
   "version": "3.9.13"
  }
 },
 "nbformat": 4,
 "nbformat_minor": 5
}
