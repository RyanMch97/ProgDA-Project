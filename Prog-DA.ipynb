{
 "cells": [
  {
   "cell_type": "markdown",
   "id": "4fb52cc7-83f3-439f-bb71-3ffb31956a7e",
   "metadata": {},
   "source": [
    "#Prog-DA "
   ]
  },
  {
   "cell_type": "markdown",
   "id": "1226b3e8-1ac9-4390-b9cf-594f4079a62d",
   "metadata": {},
   "source": [
    "## Research"
   ]
  },
  {
   "cell_type": "markdown",
   "id": "e8a2aef1-e35d-44c3-acce-75f4ca6fad5f",
   "metadata": {},
   "source": [
    "\"For my project I decided to investgiate the relationship around different phenomeans of NBA basketball. For this I looked at a number of different phenomenons using 3 commonly used Variables which help identify each of theseso called phenomenon\" "
   ]
  },
  {
   "cell_type": "markdown",
   "id": "3f4ada73-7c52-4e6f-8ba4-ba3a2736d066",
   "metadata": {},
   "source": [
    "\"In the current days of NBA basketball the so called Small Ball lineups dominate throughout the majority of the league\""
   ]
  },
  {
   "cell_type": "markdown",
   "id": "437de0a5-502d-4cb3-9dc6-403c2f27fc52",
   "metadata": {},
   "source": [
    "\"The reason behind most teams basing the playstyle around small ball lineups is due to the dominance of the Golden State Warriors.\""
   ]
  },
  {
   "cell_type": "markdown",
   "id": "0a2f4b4e-2199-47e8-958a-a5bd628f1f50",
   "metadata": {},
   "source": [
    "\"A huge factor of this success is the Teams high volume, high percentage of makes on 3pt Attempts. Often appearing at the very top of the leaderboards season on season for both these stats\""
   ]
  },
  {
   "cell_type": "markdown",
   "id": "b0d1e3c8-d879-485a-893f-5fe877c275fd",
   "metadata": {},
   "source": [
    "\"The Warriors have been to the finals 6 out of a possible 8 times & having won 4 rings during this tenure\""
   ]
  },
  {
   "cell_type": "markdown",
   "id": "37450ffb-bbdb-4c56-b1d5-22048cd04812",
   "metadata": {},
   "source": [
    "[Small Ball](https://en.wikipedia.org/wiki/Small_ball_(basketball))"
   ]
  },
  {
   "cell_type": "markdown",
   "id": "217f0f9f-7440-48dc-b796-987fadeae60d",
   "metadata": {},
   "source": []
  },
  {
   "cell_type": "code",
   "execution_count": null,
   "id": "66370560-cb4b-4e4f-8f9a-d95dc09986bc",
   "metadata": {},
   "outputs": [],
   "source": []
  }
 ],
 "metadata": {
  "kernelspec": {
   "display_name": "Python 3 (ipykernel)",
   "language": "python",
   "name": "python3"
  },
  "language_info": {
   "codemirror_mode": {
    "name": "ipython",
    "version": 3
   },
   "file_extension": ".py",
   "mimetype": "text/x-python",
   "name": "python",
   "nbconvert_exporter": "python",
   "pygments_lexer": "ipython3",
   "version": "3.9.13"
  }
 },
 "nbformat": 4,
 "nbformat_minor": 5
}
